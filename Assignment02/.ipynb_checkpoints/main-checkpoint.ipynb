{
 "cells": [
  {
   "cell_type": "code",
   "execution_count": 1,
   "metadata": {},
   "outputs": [],
   "source": [
    "from data_loader import data_loader\n",
    "from RNN_model import RNN_model, train_model, test_model\n",
    "\n",
    "import torch.nn as nn\n",
    "import pandas as pd\n",
    "import numpy as np\n",
    "import torch\n",
    "\n",
    "input_dim = 1 # Fake.\n",
    "\n",
    "hidden_dim = 10\n",
    "layer_dim = 1\n",
    "output_dim = 3\n"
   ]
  },
  {
   "cell_type": "code",
   "execution_count": 2,
   "metadata": {},
   "outputs": [],
   "source": [
    "# Return size: [batch_size, length]\n",
    "input_train, label_train, input_test, label_test = data_loader()"
   ]
  },
  {
   "cell_type": "code",
   "execution_count": 6,
   "metadata": {
    "scrolled": true
   },
   "outputs": [
    {
     "name": "stdout",
     "output_type": "stream",
     "text": [
      "torch.Size([144, 1104])\n",
      "torch.Size([48, 1104])\n",
      "[1104. 1104. 1104. 1104. 1104. 1104. 1104. 1104. 1104. 1104. 1104. 1104.\n",
      " 1028.]\n",
      "[1104. 1104. 1104. 1104. 1028. 1028. 1028. 1028.  980.]\n"
     ]
    }
   ],
   "source": [
    "print(input_train.size())\n",
    "print(input_test.size())\n",
    "\n",
    "l = [1104, 1028, 980, 964, 960, 956, 956, 932, 868, 840, 836, 808]\n",
    "\n",
    "train_seq_lens = np.zeros((12*12))\n",
    "for i in range(len(l)):\n",
    "    train_seq_lens[i*12: (i+1)*12] = l[i]\n",
    "\n",
    "test_seq_lens = np.zeros((4*12))\n",
    "for i in range(len(l)):\n",
    "    test_seq_lens[i*4: (i+1)*4] = l[i]   \n",
    "\n",
    "print(train_seq_lens[0:13])\n",
    "print(test_seq_lens[0:9]) "
   ]
  },
  {
   "cell_type": "code",
   "execution_count": 7,
   "metadata": {},
   "outputs": [],
   "source": [
    "rnn_model = RNN_model(input_dim, hidden_dim, layer_dim, output_dim)"
   ]
  },
  {
   "cell_type": "code",
   "execution_count": null,
   "metadata": {},
   "outputs": [
    {
     "name": "stdout",
     "output_type": "stream",
     "text": [
      "torch.Size([144, 1104, 1])\n"
     ]
    }
   ],
   "source": [
    "lr = 0.03\n",
    "epochs = 100\n",
    "\n",
    "flat_input_train = input_train.unsqueeze(-1)\n",
    "print(flat_input_train.size())\n",
    "train_model(rnn_model, flat_input_train, label_train, train_seq_lens, lr=lr, epochs=epochs)"
   ]
  },
  {
   "cell_type": "code",
   "execution_count": null,
   "metadata": {},
   "outputs": [],
   "source": [
    "\n",
    "flat_input_test = input_test.unsqueeze(-1)\n",
    "print(flat_input_test.size())\n",
    "acc, pred = test_model(rnn, flat_input_test, label_test, test_seq_lens)\n"
   ]
  },
  {
   "cell_type": "code",
   "execution_count": null,
   "metadata": {},
   "outputs": [],
   "source": [
    "mat = confusion(input_test.size(0), output_dim, pred, label_test)\n",
    "print(\"Confusion Matrix：\")\n",
    "print(mat)\n",
    "F1_score(mat)"
   ]
  }
 ],
 "metadata": {
  "kernelspec": {
   "display_name": "Python 3",
   "language": "python",
   "name": "python3"
  },
  "language_info": {
   "codemirror_mode": {
    "name": "ipython",
    "version": 3
   },
   "file_extension": ".py",
   "mimetype": "text/x-python",
   "name": "python",
   "nbconvert_exporter": "python",
   "pygments_lexer": "ipython3",
   "version": "3.7.3"
  }
 },
 "nbformat": 4,
 "nbformat_minor": 2
}
