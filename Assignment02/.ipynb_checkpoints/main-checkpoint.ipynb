{
 "cells": [
  {
   "cell_type": "code",
   "execution_count": 1,
   "metadata": {},
   "outputs": [],
   "source": [
    "from data_loader import data_loader\n",
    "from RNN_model import RNN_model\n",
    "\n",
    "import torch.nn as nn\n",
    "import pandas as pd\n",
    "import numpy as np\n",
    "import torch\n",
    "\n",
    "sample_num = 16 * 12\n",
    "target_num = 3\n",
    "max_seq_len = 1104\n",
    "\n",
    "\n",
    "input_dim = 255 # Fake.\n",
    "\n",
    "hidden_dim = 30\n",
    "layer_dim = 2\n",
    "output_dim = 3  # Four kinds of genres within 12 songs.\n"
   ]
  },
  {
   "cell_type": "code",
   "execution_count": 3,
   "metadata": {},
   "outputs": [
    {
     "name": "stdout",
     "output_type": "stream",
     "text": [
      "         1         2         3         4         5         6         7   \\\n",
      "0  1.000000  1.000000  1.000000  1.000000  1.000000  1.000000  1.000000   \n",
      "1  1.000000  1.000000  1.000000  1.000000  1.000000  1.000000  1.000000   \n",
      "2  1.282552  0.058909  0.430294  0.138309  0.046103  0.107574  0.129344   \n",
      "3  2.103241  0.058909  0.450784  0.138309  0.046103  0.106293  0.165202   \n",
      "4  1.378600  0.057629  0.444381  0.137028  0.046103  0.106293  0.161360   \n",
      "\n",
      "         8         9         10  \n",
      "0  1.000000  1.000000  1.000000  \n",
      "1  1.000000  1.000000  1.000000  \n",
      "2  0.559905  0.179289  0.776333  \n",
      "3  0.558625  0.216428  0.983796  \n",
      "4  0.558625  0.128064  0.812191  \n"
     ]
    }
   ],
   "source": [
    "# Load all training data.\n",
    "raw_train_data = pd.read_excel('Training data.xlsx', header=None)\n",
    "\n",
    "# Drop the first column as it is references to the time sequence indices.\n",
    "raw_train_data.drop(raw_train_data.columns[0], axis=1, inplace=True)\n",
    "\n",
    "print(raw_train_data.iloc[0:5, 0:6])"
   ]
  },
  {
   "cell_type": "code",
   "execution_count": 4,
   "metadata": {},
   "outputs": [
    {
     "name": "stdout",
     "output_type": "stream",
     "text": [
      "(144, 1106)\n",
      "     0    1         2         3         4         5         6         7  \\\n",
      "0  5.0  2.0  0.294547  0.295827  0.295827  0.295827  0.295827  0.297108   \n",
      "1  3.0  1.0  3.222633  2.399184  1.857072  2.588801  2.238702  2.847004   \n",
      "2  6.0  2.0  0.075558  0.076838  0.075558  0.075558  0.075558  0.075558   \n",
      "3  1.0  1.0  0.179289  0.216428  0.128064  0.125502  0.125502  0.129344   \n",
      "4  8.0  2.0  0.131906  0.134467  0.130625  0.131906  0.133186  0.133186   \n",
      "\n",
      "          8         9  \n",
      "0  0.295827  0.295827  \n",
      "1  2.202844  2.920001  \n",
      "2  0.076838  0.076838  \n",
      "3  0.145993  0.163922  \n",
      "4  0.133186  0.131906  \n"
     ]
    }
   ],
   "source": [
    "# Shuffle data and remove the first row since the sone number is not relevant to the sequences.\n",
    "\n",
    "shuffled_data = raw_train_data.T.sample(frac=1).reset_index(drop=True)\n",
    "\n",
    "print(shuffled_data.shape)\n",
    "print(shuffled_data.iloc[0:5, 0:6])"
   ]
  },
  {
   "cell_type": "code",
   "execution_count": 8,
   "metadata": {},
   "outputs": [
    {
     "name": "stdout",
     "output_type": "stream",
     "text": [
      "(144, 3)\n",
      "[[0. 1. 0.]\n",
      " [1. 0. 0.]\n",
      " [0. 1. 0.]\n",
      " [1. 0. 0.]\n",
      " [0. 1. 0.]]\n"
     ]
    }
   ],
   "source": [
    "x_train = shuffled_data.iloc[:, 2:]\n",
    "\n",
    "# Create one-hot vector for y_train.\n",
    "class_train = shuffled_data.iloc[:, 1]\n",
    "y_train = np.zeros((class_train.shape[0], 3))\n",
    "for i in range(class_train.shape[0]):\n",
    "    y_train[i][int(class_train[i])-1] = 1\n",
    "    \n",
    "print(y_train.shape)\n",
    "print(y_train[0:5])"
   ]
  },
  {
   "cell_type": "code",
   "execution_count": 10,
   "metadata": {},
   "outputs": [
    {
     "ename": "ValueError",
     "evalue": "could not determine the shape of object type 'DataFrame'",
     "output_type": "error",
     "traceback": [
      "\u001b[1;31m---------------------------------------------------------------------------\u001b[0m",
      "\u001b[1;31mValueError\u001b[0m                                Traceback (most recent call last)",
      "\u001b[1;32m<ipython-input-10-9d83d76e2c48>\u001b[0m in \u001b[0;36m<module>\u001b[1;34m\u001b[0m\n\u001b[0;32m      2\u001b[0m \u001b[0my_train\u001b[0m \u001b[1;33m=\u001b[0m \u001b[0my_train\u001b[0m\u001b[1;33m.\u001b[0m\u001b[0mastype\u001b[0m\u001b[1;33m(\u001b[0m\u001b[0mdtype\u001b[0m\u001b[1;33m=\u001b[0m\u001b[1;34m'int64'\u001b[0m\u001b[1;33m)\u001b[0m\u001b[1;33m\u001b[0m\u001b[1;33m\u001b[0m\u001b[0m\n\u001b[0;32m      3\u001b[0m \u001b[1;33m\u001b[0m\u001b[0m\n\u001b[1;32m----> 4\u001b[1;33m \u001b[0minput_train\u001b[0m \u001b[1;33m=\u001b[0m \u001b[0mtorch\u001b[0m\u001b[1;33m.\u001b[0m\u001b[0mTensor\u001b[0m\u001b[1;33m(\u001b[0m\u001b[0mx_train\u001b[0m\u001b[1;33m)\u001b[0m\u001b[1;33m.\u001b[0m\u001b[0mfloat\u001b[0m\u001b[1;33m(\u001b[0m\u001b[1;33m)\u001b[0m\u001b[1;33m\u001b[0m\u001b[1;33m\u001b[0m\u001b[0m\n\u001b[0m\u001b[0;32m      5\u001b[0m \u001b[0mlabel_train\u001b[0m \u001b[1;33m=\u001b[0m \u001b[0mtorch\u001b[0m\u001b[1;33m.\u001b[0m\u001b[0mTensor\u001b[0m\u001b[1;33m(\u001b[0m\u001b[0my_train\u001b[0m\u001b[1;33m)\u001b[0m\u001b[1;33m.\u001b[0m\u001b[0mlong\u001b[0m\u001b[1;33m(\u001b[0m\u001b[1;33m)\u001b[0m\u001b[1;33m\u001b[0m\u001b[1;33m\u001b[0m\u001b[0m\n\u001b[0;32m      6\u001b[0m \u001b[1;33m\u001b[0m\u001b[0m\n",
      "\u001b[1;31mValueError\u001b[0m: could not determine the shape of object type 'DataFrame'"
     ]
    }
   ],
   "source": [
    "x_train = x_train.astype(dtype='float32')\n",
    "y_train = y_train.astype(dtype='int64')\n",
    "\n",
    "input_train = torch.Tensor(x_train.values).float()\n",
    "label_train = torch.Tensor(y_train).long()\n",
    "\n",
    "print(input_train)\n",
    "print(label_train)"
   ]
  },
  {
   "cell_type": "code",
   "execution_count": null,
   "metadata": {},
   "outputs": [],
   "source": []
  },
  {
   "cell_type": "code",
   "execution_count": null,
   "metadata": {},
   "outputs": [],
   "source": []
  },
  {
   "cell_type": "code",
   "execution_count": null,
   "metadata": {},
   "outputs": [],
   "source": [
    "\n"
   ]
  }
 ],
 "metadata": {
  "kernelspec": {
   "display_name": "Python 3",
   "language": "python",
   "name": "python3"
  },
  "language_info": {
   "codemirror_mode": {
    "name": "ipython",
    "version": 3
   },
   "file_extension": ".py",
   "mimetype": "text/x-python",
   "name": "python",
   "nbconvert_exporter": "python",
   "pygments_lexer": "ipython3",
   "version": "3.7.3"
  }
 },
 "nbformat": 4,
 "nbformat_minor": 2
}
