{
 "cells": [
  {
   "cell_type": "code",
   "execution_count": 1,
   "metadata": {},
   "outputs": [],
   "source": [
    "from data_loader import data_loader\n",
    "from RNN_model import RNN_model, train_model, test_model\n",
    "\n",
    "import torch.nn as nn\n",
    "import pandas as pd\n",
    "import numpy as np\n",
    "import torch\n",
    "\n",
    "input_dim = 1 # Fake.\n",
    "\n",
    "hidden_dim = 10\n",
    "layer_dim = 1\n",
    "output_dim = 3\n"
   ]
  },
  {
   "cell_type": "code",
   "execution_count": 2,
   "metadata": {},
   "outputs": [],
   "source": [
    "# Return size: [batch_size, length]\n",
    "input_train, label_train, input_test, label_test = data_loader()"
   ]
  },
  {
   "cell_type": "code",
   "execution_count": 3,
   "metadata": {
    "scrolled": true
   },
   "outputs": [
    {
     "name": "stdout",
     "output_type": "stream",
     "text": [
      "torch.Size([144, 1104])\n",
      "torch.Size([48, 1104])\n",
      "[1104. 1104. 1104. 1104. 1104. 1104. 1104. 1104. 1104. 1104. 1104. 1104.\n",
      " 1028.]\n",
      "[1104. 1104. 1104. 1104. 1028. 1028. 1028. 1028.  980.]\n"
     ]
    }
   ],
   "source": [
    "print(input_train.size())\n",
    "print(input_test.size())\n",
    "\n",
    "l = [1104, 1028, 980, 964, 960, 956, 956, 932, 868, 840, 836, 808]\n",
    "\n",
    "train_seq_lens = np.zeros((12*12))\n",
    "for i in range(len(l)):\n",
    "    train_seq_lens[i*12: (i+1)*12] = l[i]\n",
    "\n",
    "test_seq_lens = np.zeros((4*12))\n",
    "for i in range(len(l)):\n",
    "    test_seq_lens[i*4: (i+1)*4] = l[i]   \n",
    "\n",
    "print(train_seq_lens[0:13])\n",
    "print(test_seq_lens[0:9]) "
   ]
  },
  {
   "cell_type": "code",
   "execution_count": 4,
   "metadata": {},
   "outputs": [],
   "source": [
    "rnn_model = RNN_model(input_dim, hidden_dim, layer_dim, output_dim)"
   ]
  },
  {
   "cell_type": "code",
   "execution_count": 5,
   "metadata": {},
   "outputs": [
    {
     "name": "stdout",
     "output_type": "stream",
     "text": [
      "torch.Size([144, 1104, 1])\n",
      "Epoch: 10/100............. Loss: 1.0717 Accuracy: 33.33\n",
      "Epoch: 20/100............. Loss: 1.0711 Accuracy: 33.33\n",
      "Epoch: 30/100............. Loss: 1.0705 Accuracy: 33.33\n",
      "Epoch: 40/100............. Loss: 1.0698 Accuracy: 33.33\n",
      "Epoch: 50/100............. Loss: 1.0692 Accuracy: 33.33\n",
      "Epoch: 60/100............. Loss: 1.0685 Accuracy: 33.33\n",
      "Epoch: 70/100............. Loss: 1.0679 Accuracy: 33.33\n",
      "Epoch: 80/100............. Loss: 1.0672 Accuracy: 33.33\n",
      "Epoch: 90/100............. Loss: 1.0665 Accuracy: 33.33\n",
      "Epoch: 100/100............. Loss: 1.0659 Accuracy: 33.33\n"
     ]
    },
    {
     "data": {
      "image/png": "[encoded data removed]",
      "text/plain": [
       "<Figure size 432x288 with 1 Axes>"
      ]
     },
     "metadata": {
      "needs_background": "light"
     },
     "output_type": "display_data"
    }
   ],
   "source": [
    "lr = 0.0001\n",
    "epochs = 100\n",
    "\n",
    "flat_input_train = input_train.unsqueeze(-1)\n",
    "print(flat_input_train.size())\n",
    "train_model(rnn_model, flat_input_train, label_train, train_seq_lens, lr=lr, epochs=epochs)"
   ]
  },
  {
   "cell_type": "code",
   "execution_count": 6,
   "metadata": {},
   "outputs": [
    {
     "name": "stdout",
     "output_type": "stream",
     "text": [
      "torch.Size([48, 1104, 1])\n",
      "Testing Accuracy: 33.33 %\n"
     ]
    }
   ],
   "source": [
    "\n",
    "flat_input_test = input_test.unsqueeze(-1)\n",
    "print(flat_input_test.size())\n",
    "acc, pred = test_model(rnn_model, flat_input_test, label_test, test_seq_lens)\n"
   ]
  },
  {
   "cell_type": "code",
   "execution_count": 7,
   "metadata": {},
   "outputs": [
    {
     "name": "stdout",
     "output_type": "stream",
     "text": [
      "Confusion Matrix：\n",
      "tensor([[ 0.,  0., 16.],\n",
      "        [ 0.,  0., 16.],\n",
      "        [ 0.,  0., 16.]])\n",
      "\n",
      "Precision: [0, 0, 0.33333334] ; \n",
      "Average precision: 0.11111111442248027\n",
      "\n",
      "Recall: [0.0, 0.0, 1.0] ; \n",
      "Average recall: 0.3333333432674408\n",
      "\n",
      "F1 Score: [0, 0, 0.5] ; \n",
      "Average F1 Score: 0.16666666666666666\n"
     ]
    }
   ],
   "source": [
    "from utils import confusion, F1_score\n",
    "\n",
    "\n",
    "mat = confusion(input_test.size(0), output_dim, pred, label_test)\n",
    "print(\"Confusion Matrix：\")\n",
    "print(mat)\n",
    "F1_score(mat)"
   ]
  },
  {
   "cell_type": "code",
   "execution_count": 8,
   "metadata": {},
   "outputs": [
    {
     "name": "stdout",
     "output_type": "stream",
     "text": [
      "RNN_model(\n",
      "  (rnn): RNN(1, 10, batch_first=True)\n",
      "  (fc): Linear(in_features=10, out_features=3, bias=True)\n",
      "  (softmax): LogSoftmax()\n",
      ")\n",
      "<bound method Module.state_dict of RNN(1, 10, batch_first=True)>\n",
      "<bound method Module.parameters of RNN(1, 10, batch_first=True)>\n"
     ]
    }
   ],
   "source": [
    "print(rnn_model)\n",
    "print(rnn_model.rnn.state_dict)\n",
    "print(rnn_model.rnn.parameters)"
   ]
  },
  {
   "cell_type": "code",
   "execution_count": 10,
   "metadata": {
    "scrolled": true
   },
   "outputs": [
    {
     "name": "stdout",
     "output_type": "stream",
     "text": [
      "[[Parameter containing:\n",
      "tensor([[-0.1297],\n",
      "        [ 0.1227],\n",
      "        [-0.1905],\n",
      "        [-0.3138],\n",
      "        [ 0.2275],\n",
      "        [ 0.2231],\n",
      "        [ 0.1461],\n",
      "        [ 0.2869],\n",
      "        [ 0.2578],\n",
      "        [ 0.2132]], requires_grad=True), Parameter containing:\n",
      "tensor([[-0.1572,  0.2004, -0.2248, -0.0947,  0.0631,  0.1361, -0.2617,  0.1165,\n",
      "          0.2625,  0.0071],\n",
      "        [-0.1333, -0.1717,  0.2517,  0.0919, -0.2935, -0.2044,  0.0621, -0.0198,\n",
      "          0.1736,  0.2679],\n",
      "        [-0.2091,  0.2298,  0.0306,  0.3046,  0.0558,  0.0361,  0.2552,  0.1035,\n",
      "          0.2660, -0.0910],\n",
      "        [-0.0128, -0.1185, -0.1095,  0.2508, -0.0600,  0.1315,  0.1530, -0.1817,\n",
      "         -0.3057,  0.1616],\n",
      "        [-0.0409, -0.2745, -0.1744,  0.0614, -0.1944,  0.0218, -0.1319,  0.1138,\n",
      "         -0.1211,  0.2125],\n",
      "        [-0.1569,  0.2702, -0.2042, -0.0209,  0.2374, -0.0790,  0.1558,  0.1934,\n",
      "         -0.1553, -0.0357],\n",
      "        [-0.1552,  0.2055,  0.0834,  0.0171,  0.1287,  0.2121, -0.1219, -0.3124,\n",
      "          0.1801,  0.1842],\n",
      "        [ 0.1900,  0.2964, -0.1317,  0.2185,  0.3088, -0.0768,  0.1791,  0.0596,\n",
      "         -0.1647, -0.0291],\n",
      "        [-0.2848, -0.0364, -0.3019,  0.0084, -0.0333,  0.2663, -0.0551, -0.0046,\n",
      "          0.2757,  0.0119],\n",
      "        [-0.2197, -0.0411, -0.0698, -0.1602,  0.2346, -0.2597,  0.0357, -0.2072,\n",
      "          0.1834,  0.3118]], requires_grad=True), Parameter containing:\n",
      "tensor([-0.1912, -0.2351,  0.0105, -0.1672,  0.1558,  0.2949,  0.1589,  0.2477,\n",
      "         0.3073,  0.0833], requires_grad=True), Parameter containing:\n",
      "tensor([ 0.2685, -0.2586, -0.2593,  0.0560, -0.1232,  0.0486, -0.1272,  0.2636,\n",
      "        -0.0539,  0.1989], requires_grad=True)]]\n"
     ]
    }
   ],
   "source": [
    "print(rnn_model.rnn.all_weights)"
   ]
  },
  {
   "cell_type": "code",
   "execution_count": null,
   "metadata": {},
   "outputs": [],
   "source": []
  },
  {
   "cell_type": "code",
   "execution_count": 11,
   "metadata": {},
   "outputs": [
    {
     "name": "stdout",
     "output_type": "stream",
     "text": [
      "[[Parameter containing:\n",
      "tensor([[-0.1297],\n",
      "        [ 0.1227],\n",
      "        [-0.1905],\n",
      "        [-0.3138],\n",
      "        [ 0.2275],\n",
      "        [ 0.2231],\n",
      "        [ 0.1461],\n",
      "        [ 0.2869],\n",
      "        [ 0.2578],\n",
      "        [ 0.2132]], requires_grad=True), Parameter containing:\n",
      "tensor([[-0.1572,  0.2004, -0.2248, -0.0947,  0.0631,  0.1361, -0.2617,  0.1165,\n",
      "          0.2625,  0.0071],\n",
      "        [-0.1333, -0.1717,  0.2517,  0.0919, -0.2935, -0.2044,  0.0621, -0.0198,\n",
      "          0.1736,  0.2679],\n",
      "        [-0.2091,  0.2298,  0.0306,  0.3046,  0.0558,  0.0361,  0.2552,  0.1035,\n",
      "          0.2660, -0.0910],\n",
      "        [-0.0128, -0.1185, -0.1095,  0.2508, -0.0600,  0.1315,  0.1530, -0.1817,\n",
      "         -0.3057,  0.1616],\n",
      "        [-0.0409, -0.2745, -0.1744,  0.0614, -0.1944,  0.0218, -0.1319,  0.1138,\n",
      "         -0.1211,  0.2125],\n",
      "        [-0.1569,  0.2702, -0.2042, -0.0209,  0.2374, -0.0790,  0.1558,  0.1934,\n",
      "         -0.1553, -0.0357],\n",
      "        [-0.1552,  0.2055,  0.0834,  0.0171,  0.1287,  0.2121, -0.1219, -0.3124,\n",
      "          0.1801,  0.1842],\n",
      "        [ 0.1900,  0.2964, -0.1317,  0.2185,  0.3088, -0.0768,  0.1791,  0.0596,\n",
      "         -0.1647, -0.0291],\n",
      "        [-0.2848, -0.0364, -0.3019,  0.0084, -0.0333,  0.2663, -0.0551, -0.0046,\n",
      "          0.2757,  0.0119],\n",
      "        [-0.2197, -0.0411, -0.0698, -0.1602,  0.2346, -0.2597,  0.0357, -0.2072,\n",
      "          0.1834,  0.3118]], requires_grad=True), Parameter containing:\n",
      "tensor([-0.1912, -0.2351,  0.0105, -0.1672,  0.1558,  0.2949,  0.1589,  0.2477,\n",
      "         0.3073,  0.0833], requires_grad=True), Parameter containing:\n",
      "tensor([ 0.2685, -0.2586, -0.2593,  0.0560, -0.1232,  0.0486, -0.1272,  0.2636,\n",
      "        -0.0539,  0.1989], requires_grad=True)]]\n"
     ]
    }
   ],
   "source": [
    "print(rnn_model.rnn.all_weights)\n"
   ]
  },
  {
   "cell_type": "code",
   "execution_count": null,
   "metadata": {},
   "outputs": [],
   "source": []
  }
 ],
 "metadata": {
  "kernelspec": {
   "display_name": "Python 3",
   "language": "python",
   "name": "python3"
  },
  "language_info": {
   "codemirror_mode": {
    "name": "ipython",
    "version": 3
   },
   "file_extension": ".py",
   "mimetype": "text/x-python",
   "name": "python",
   "nbconvert_exporter": "python",
   "pygments_lexer": "ipython3",
   "version": "3.7.3"
  }
 },
 "nbformat": 4,
 "nbformat_minor": 2
}
