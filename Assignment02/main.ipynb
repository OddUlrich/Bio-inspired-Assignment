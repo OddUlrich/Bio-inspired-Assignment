{
 "cells": [
  {
   "cell_type": "code",
   "execution_count": 1,
   "metadata": {},
   "outputs": [],
   "source": [
    "from data_loader import data_loader\n",
    "from RNN_model import RNN_model\n",
    "\n",
    "import torch.nn as nn\n",
    "import pandas as pd\n",
    "import numpy as np\n",
    "import torch\n",
    "\n",
    "input_dim = 255 # Fake.\n",
    "\n",
    "hidden_dim = 30\n",
    "layer_dim = 2\n",
    "output_dim = 3  # Four kinds of genres within 12 songs.\n"
   ]
  },
  {
   "cell_type": "code",
   "execution_count": 2,
   "metadata": {},
   "outputs": [
    {
     "name": "stdout",
     "output_type": "stream",
     "text": [
      "          1         2         3         4         5         6\n",
      "0  1.000000  1.000000  1.000000  1.000000  1.000000  1.000000\n",
      "1  1.000000  1.000000  1.000000  1.000000  1.000000  1.000000\n",
      "2  1.282552  0.058909  0.430294  0.138309  0.046103  0.107574\n",
      "3  2.103241  0.058909  0.450784  0.138309  0.046103  0.106293\n",
      "4  1.378600  0.057629  0.444381  0.137028  0.046103  0.106293\n",
      "torch.Size([144, 1104])\n",
      "torch.Size([144, 3])\n",
      "          1         2         3         4         5         6\n",
      "0  1.000000  1.000000  1.000000  1.000000  2.000000  2.000000\n",
      "1  1.000000  1.000000  1.000000  1.000000  1.000000  1.000000\n",
      "2  4.571217  0.307353  0.098615  0.090925  2.235346  0.053787\n",
      "3  4.689035  0.307353  0.119106  0.093486  2.440248  0.049945\n",
      "4  4.435469  0.279179  0.105019  0.093486  2.268157  0.049945\n",
      "torch.Size([48, 1104])\n",
      "torch.Size([48, 3])\n"
     ]
    }
   ],
   "source": [
    "# Return size: [batch_size, length]\n",
    "input_train, label_train, input_test, label_test = data_loader()\n",
    "\n"
   ]
  },
  {
   "cell_type": "code",
   "execution_count": null,
   "metadata": {},
   "outputs": [],
   "source": []
  }
 ],
 "metadata": {
  "kernelspec": {
   "display_name": "Python 3",
   "language": "python",
   "name": "python3"
  },
  "language_info": {
   "codemirror_mode": {
    "name": "ipython",
    "version": 3
   },
   "file_extension": ".py",
   "mimetype": "text/x-python",
   "name": "python",
   "nbconvert_exporter": "python",
   "pygments_lexer": "ipython3",
   "version": "3.7.3"
  }
 },
 "nbformat": 4,
 "nbformat_minor": 2
}
