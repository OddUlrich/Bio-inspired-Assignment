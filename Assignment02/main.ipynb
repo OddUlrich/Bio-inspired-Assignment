{
 "cells": [
  {
   "cell_type": "markdown",
   "metadata": {},
   "source": [
    "## Saving data and Loading data"
   ]
  },
  {
   "cell_type": "markdown",
   "metadata": {},
   "source": [
    "### Soft code for pruning neural network"
   ]
  },
  {
   "cell_type": "code",
   "execution_count": 1,
   "metadata": {},
   "outputs": [
    {
     "name": "stdout",
     "output_type": "stream",
     "text": [
      "    0   1         2\n",
      "0   4  23  4.429741\n",
      "1   4  27  7.661217\n",
      "2   4  29  7.920205\n",
      "3   6  10  9.530773\n",
      "4   7  19  6.171331\n",
      "5  23  27  8.530209\n"
     ]
    }
   ],
   "source": [
    "import torch\n",
    "import pandas as pd\n",
    "from reducing_net import reduced_ann_net\n",
    "from Net import Net, train_model, test_model\n",
    "from utils import confusion, F1_score, loadDataset, saveNNParas\n",
    "import time\n",
    "\n",
    "\n",
    "feature_num = 11\n",
    "hidden_num = 30\n",
    "output_num = 3\n",
    "\n",
    "load_net = Net(feature_num, hidden_num, output_num)\n",
    "load_net.load_state_dict(torch.load('net_model_genre.pt'))\n",
    "load_net.eval()\n",
    "\n",
    "x_train, y_train = loadDataset('testing')\n",
    "x_test, y_test = loadDataset('testing')\n",
    "\n",
    "\n",
    "vectors = pd.read_excel('vector_angle_sample.xls', header=None)\n",
    "print(vectors)\n",
    "\n",
    "raw_df = pd.DataFrame({'row': vectors.iloc[:, 0],\n",
    "                   'col': vectors.iloc[:, 1],\n",
    "                   'vector': vectors.iloc[:, 2]})\n"
   ]
  },
  {
   "cell_type": "code",
   "execution_count": 2,
   "metadata": {},
   "outputs": [],
   "source": [
    "increase_res = raw_df.sort_values('vector', ascending=True)\n",
    "unique_row = increase_res.row.unique()\n",
    "unique_col = increase_res.col.unique()\n",
    "\n",
    "nets = []\n",
    "times = []\n",
    "old_net = load_net\n",
    "cnt = 0\n",
    "hidden_num = 30\n"
   ]
  },
  {
   "cell_type": "code",
   "execution_count": 3,
   "metadata": {},
   "outputs": [
    {
     "name": "stdout",
     "output_type": "stream",
     "text": [
      "\n",
      "======= Net hidden size: 29==========\n",
      "\n",
      "Testing Accuracy: 39.58 %\n",
      "Execution time: 2.499818801879883 ms\n",
      "\n",
      "Precision: [0.33333334, 0.3, 0.4] ; \n",
      "Average precision: 0.3444444239139557\n",
      "\n",
      "Recall: [0.6875, 0.21428572, 0.13333334] ; \n",
      "Average recall: 0.3450396955013275\n",
      "\n",
      "F1 Score: [0.44897958774062224, 0.2499999983443156, 0.20000000298023224] ; \n",
      "Average F1 Score: 0.29965986302172337\n",
      "Datas has been successfully saved in Excel files!\n",
      "\n",
      "======= Net hidden size: 28==========\n",
      "\n",
      "Testing Accuracy: 37.50 %\n",
      "Execution time: 1.5015602111816406 ms\n",
      "\n",
      "Precision: [0.33333334, 0, 0.33333334] ; \n",
      "Average precision: 0.22222222884496054\n",
      "\n",
      "Recall: [0.875, 0.0, 0.14285715] ; \n",
      "Average recall: 0.3392857313156128\n",
      "\n",
      "F1 Score: [0.48275861920131097, 0, 0.20000000178813948] ; \n",
      "Average F1 Score: 0.2275862069964835\n",
      "Datas has been successfully saved in Excel files!\n",
      "\n",
      "======= Net hidden size: 27==========\n",
      "\n",
      "Testing Accuracy: 31.25 %\n",
      "Execution time: 1.4998912811279297 ms\n",
      "\n",
      "Precision: [0.33333334, 0.0, 1.0] ; \n",
      "Average precision: 0.4444444477558136\n",
      "\n",
      "Recall: [0.9375, 0.0, 0.05882353] ; \n",
      "Average recall: 0.3321078419685364\n",
      "\n",
      "F1 Score: [0.49180327796769446, 0, 0.11111110563815405] ; \n",
      "Average F1 Score: 0.2009714612019495\n",
      "Datas has been successfully saved in Excel files!\n",
      "\n",
      "======= Net hidden size: 26==========\n",
      "\n",
      "Testing Accuracy: 25.00 %\n",
      "Execution time: 1.4982223510742188 ms\n",
      "\n",
      "Precision: [0.2820513, 0.33333334, 1.0] ; \n",
      "Average precision: 0.5384615063667297\n",
      "\n",
      "Recall: [0.6875, 0.11764706, 0.15789473] ; \n",
      "Average recall: 0.3210139274597168\n",
      "\n",
      "F1 Score: [0.40000000076845654, 0.17391304818240816, 0.2727272633678656] ; \n",
      "Average F1 Score: 0.2822134374395768\n",
      "Datas has been successfully saved in Excel files!\n",
      "\n",
      " Finished: Vectors are empty! \n",
      "\n",
      "[2.499818801879883, 1.5015602111816406, 1.4998912811279297, 1.4982223510742188]\n"
     ]
    }
   ],
   "source": [
    "while cnt < 10:\n",
    "    if len(unique_row) == 0 or len(unique_col) == 0:\n",
    "        print(\"\\n Finished! \\n\")\n",
    "        break\n",
    "        \n",
    "    for index, row in increase_res.iterrows():\n",
    "        if row['row'] in unique_row and row['col'] in unique_col and row['row'] not in unique_col:\n",
    "            hidden_num -= 1\n",
    "            new_net = reduced_ann_net(old_net, int(row['row']), int(row['col']), hidden_num)\n",
    "\n",
    "            print(\"\\n======= Net hidden size: {}==========\\n\".format(hidden_num))\n",
    "\n",
    "            start_time = time.time()\n",
    "            acc, pred = test_model(new_net, x_test, y_test)\n",
    "            stop_time = time.time()\n",
    "            print(\"Execution time: %s ms\" % ((stop_time - start_time)*1000))\n",
    "            times.append((stop_time - start_time)*1000)\n",
    "\n",
    "            mat = confusion(x_test.size(0), 3, pred, y_test)\n",
    "            F1_score(mat)\n",
    "\n",
    "            nets.append(new_net)\n",
    "            old_net = new_net\n",
    "\n",
    "            saveNNParas(new_net, x_test, hidden_num)\n",
    "            vectors = pd.read_excel('vector_angle.xls', header=None)\n",
    "            if (vectors.empty):\n",
    "                cnt = 10\n",
    "                print(\"\\n Finished: Vectors are empty! \\n\")\n",
    "                break\n",
    "\n",
    "            df = pd.DataFrame({'row': vectors.iloc[:, 0],\n",
    "                               'col': vectors.iloc[:, 1],\n",
    "                               'vector': vectors.iloc[:, 2]})\n",
    "\n",
    "            increase_res = df.sort_values('vector', ascending=True)\n",
    "\n",
    "            unique_row = increase_res.row.unique()\n",
    "            unique_col = increase_res.col.unique()\n",
    "            \n",
    "            cnt += 1\n",
    "            break\n",
    "            \n",
    "print(times)"
   ]
  },
  {
   "cell_type": "code",
   "execution_count": 4,
   "metadata": {},
   "outputs": [
    {
     "name": "stdout",
     "output_type": "stream",
     "text": [
      "Empty DataFrame\n",
      "Columns: []\n",
      "Index: []\n"
     ]
    }
   ],
   "source": [
    "print(vectors)"
   ]
  },
  {
   "cell_type": "code",
   "execution_count": null,
   "metadata": {},
   "outputs": [],
   "source": []
  }
 ],
 "metadata": {
  "kernelspec": {
   "display_name": "Python 3",
   "language": "python",
   "name": "python3"
  },
  "language_info": {
   "codemirror_mode": {
    "name": "ipython",
    "version": 3
   },
   "file_extension": ".py",
   "mimetype": "text/x-python",
   "name": "python",
   "nbconvert_exporter": "python",
   "pygments_lexer": "ipython3",
   "version": "3.7.3"
  }
 },
 "nbformat": 4,
 "nbformat_minor": 2
}
